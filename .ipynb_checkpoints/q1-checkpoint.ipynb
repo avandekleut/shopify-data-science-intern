{
 "cells": [
  {
   "cell_type": "code",
   "execution_count": 2,
   "id": "voluntary-removal",
   "metadata": {},
   "outputs": [],
   "source": [
    "%config Completer.use_jedi = False"
   ]
  },
  {
   "cell_type": "markdown",
   "id": "little-death",
   "metadata": {},
   "source": [
    "**Question 1: Given some sample data, write a program to answer the following: click here to access the required data set. On Shopify, we have exactly 100 sneaker shops, and each of these shops sells only one model of shoe. We want to do some analysis of the average order value (AOV). When we look at orders data over a 30 day window, we naively calculate an AOV of \\$3145.13. Given that we know these shops are selling sneakers, a relatively affordable item, something seems wrong with our analysis.**"
   ]
  },
  {
   "cell_type": "code",
   "execution_count": 20,
   "id": "proved-turner",
   "metadata": {},
   "outputs": [],
   "source": [
    "import pandas as pd"
   ]
  },
  {
   "cell_type": "code",
   "execution_count": 34,
   "id": "innocent-invitation",
   "metadata": {},
   "outputs": [
    {
     "data": {
      "text/html": [
       "<div>\n",
       "<style scoped>\n",
       "    .dataframe tbody tr th:only-of-type {\n",
       "        vertical-align: middle;\n",
       "    }\n",
       "\n",
       "    .dataframe tbody tr th {\n",
       "        vertical-align: top;\n",
       "    }\n",
       "\n",
       "    .dataframe thead th {\n",
       "        text-align: right;\n",
       "    }\n",
       "</style>\n",
       "<table border=\"1\" class=\"dataframe\">\n",
       "  <thead>\n",
       "    <tr style=\"text-align: right;\">\n",
       "      <th></th>\n",
       "      <th>order_id</th>\n",
       "      <th>shop_id</th>\n",
       "      <th>user_id</th>\n",
       "      <th>order_amount</th>\n",
       "      <th>total_items</th>\n",
       "      <th>payment_method</th>\n",
       "      <th>created_at</th>\n",
       "    </tr>\n",
       "  </thead>\n",
       "  <tbody>\n",
       "    <tr>\n",
       "      <th>0</th>\n",
       "      <td>1</td>\n",
       "      <td>53</td>\n",
       "      <td>746</td>\n",
       "      <td>224</td>\n",
       "      <td>2</td>\n",
       "      <td>cash</td>\n",
       "      <td>2017-03-13 12:36:56</td>\n",
       "    </tr>\n",
       "    <tr>\n",
       "      <th>1</th>\n",
       "      <td>2</td>\n",
       "      <td>92</td>\n",
       "      <td>925</td>\n",
       "      <td>90</td>\n",
       "      <td>1</td>\n",
       "      <td>cash</td>\n",
       "      <td>2017-03-03 17:38:52</td>\n",
       "    </tr>\n",
       "    <tr>\n",
       "      <th>2</th>\n",
       "      <td>3</td>\n",
       "      <td>44</td>\n",
       "      <td>861</td>\n",
       "      <td>144</td>\n",
       "      <td>1</td>\n",
       "      <td>cash</td>\n",
       "      <td>2017-03-14 4:23:56</td>\n",
       "    </tr>\n",
       "    <tr>\n",
       "      <th>3</th>\n",
       "      <td>4</td>\n",
       "      <td>18</td>\n",
       "      <td>935</td>\n",
       "      <td>156</td>\n",
       "      <td>1</td>\n",
       "      <td>credit_card</td>\n",
       "      <td>2017-03-26 12:43:37</td>\n",
       "    </tr>\n",
       "    <tr>\n",
       "      <th>4</th>\n",
       "      <td>5</td>\n",
       "      <td>18</td>\n",
       "      <td>883</td>\n",
       "      <td>156</td>\n",
       "      <td>1</td>\n",
       "      <td>credit_card</td>\n",
       "      <td>2017-03-01 4:35:11</td>\n",
       "    </tr>\n",
       "    <tr>\n",
       "      <th>...</th>\n",
       "      <td>...</td>\n",
       "      <td>...</td>\n",
       "      <td>...</td>\n",
       "      <td>...</td>\n",
       "      <td>...</td>\n",
       "      <td>...</td>\n",
       "      <td>...</td>\n",
       "    </tr>\n",
       "    <tr>\n",
       "      <th>4995</th>\n",
       "      <td>4996</td>\n",
       "      <td>73</td>\n",
       "      <td>993</td>\n",
       "      <td>330</td>\n",
       "      <td>2</td>\n",
       "      <td>debit</td>\n",
       "      <td>2017-03-30 13:47:17</td>\n",
       "    </tr>\n",
       "    <tr>\n",
       "      <th>4996</th>\n",
       "      <td>4997</td>\n",
       "      <td>48</td>\n",
       "      <td>789</td>\n",
       "      <td>234</td>\n",
       "      <td>2</td>\n",
       "      <td>cash</td>\n",
       "      <td>2017-03-16 20:36:16</td>\n",
       "    </tr>\n",
       "    <tr>\n",
       "      <th>4997</th>\n",
       "      <td>4998</td>\n",
       "      <td>56</td>\n",
       "      <td>867</td>\n",
       "      <td>351</td>\n",
       "      <td>3</td>\n",
       "      <td>cash</td>\n",
       "      <td>2017-03-19 5:42:42</td>\n",
       "    </tr>\n",
       "    <tr>\n",
       "      <th>4998</th>\n",
       "      <td>4999</td>\n",
       "      <td>60</td>\n",
       "      <td>825</td>\n",
       "      <td>354</td>\n",
       "      <td>2</td>\n",
       "      <td>credit_card</td>\n",
       "      <td>2017-03-16 14:51:18</td>\n",
       "    </tr>\n",
       "    <tr>\n",
       "      <th>4999</th>\n",
       "      <td>5000</td>\n",
       "      <td>44</td>\n",
       "      <td>734</td>\n",
       "      <td>288</td>\n",
       "      <td>2</td>\n",
       "      <td>debit</td>\n",
       "      <td>2017-03-18 15:48:18</td>\n",
       "    </tr>\n",
       "  </tbody>\n",
       "</table>\n",
       "<p>5000 rows × 7 columns</p>\n",
       "</div>"
      ],
      "text/plain": [
       "      order_id  shop_id  user_id  order_amount  total_items payment_method  \\\n",
       "0            1       53      746           224            2           cash   \n",
       "1            2       92      925            90            1           cash   \n",
       "2            3       44      861           144            1           cash   \n",
       "3            4       18      935           156            1    credit_card   \n",
       "4            5       18      883           156            1    credit_card   \n",
       "...        ...      ...      ...           ...          ...            ...   \n",
       "4995      4996       73      993           330            2          debit   \n",
       "4996      4997       48      789           234            2           cash   \n",
       "4997      4998       56      867           351            3           cash   \n",
       "4998      4999       60      825           354            2    credit_card   \n",
       "4999      5000       44      734           288            2          debit   \n",
       "\n",
       "               created_at  \n",
       "0     2017-03-13 12:36:56  \n",
       "1     2017-03-03 17:38:52  \n",
       "2      2017-03-14 4:23:56  \n",
       "3     2017-03-26 12:43:37  \n",
       "4      2017-03-01 4:35:11  \n",
       "...                   ...  \n",
       "4995  2017-03-30 13:47:17  \n",
       "4996  2017-03-16 20:36:16  \n",
       "4997   2017-03-19 5:42:42  \n",
       "4998  2017-03-16 14:51:18  \n",
       "4999  2017-03-18 15:48:18  \n",
       "\n",
       "[5000 rows x 7 columns]"
      ]
     },
     "execution_count": 34,
     "metadata": {},
     "output_type": "execute_result"
    }
   ],
   "source": [
    "data = pd.read_csv('data.csv')\n",
    "data"
   ]
  },
  {
   "cell_type": "markdown",
   "id": "prescribed-latex",
   "metadata": {},
   "source": [
    "**a) Think about what could be going wrong with our calculation. Think about a better way to evaluate this data.**"
   ]
  },
  {
   "cell_type": "markdown",
   "id": "dirty-engineer",
   "metadata": {},
   "source": [
    "First let's understand how the AOV was calculated."
   ]
  },
  {
   "cell_type": "code",
   "execution_count": 6,
   "id": "thirty-classic",
   "metadata": {},
   "outputs": [
    {
     "data": {
      "text/plain": [
       "3145.128"
      ]
     },
     "execution_count": 6,
     "metadata": {},
     "output_type": "execute_result"
    }
   ],
   "source": [
    "data['order_amount'].mean()"
   ]
  },
  {
   "cell_type": "markdown",
   "id": "reserved-macintosh",
   "metadata": {},
   "source": [
    "The average order amount was naively calculated as the average over orders. However, this number is much higher than we would expect based on the preview of the table, which should probably be somewhere between 200 and 300."
   ]
  },
  {
   "cell_type": "code",
   "execution_count": 28,
   "id": "proprietary-somerset",
   "metadata": {},
   "outputs": [],
   "source": [
    "import seaborn as sns"
   ]
  },
  {
   "cell_type": "code",
   "execution_count": 32,
   "id": "working-algebra",
   "metadata": {},
   "outputs": [
    {
     "data": {
      "text/plain": [
       "<seaborn.axisgrid.FacetGrid at 0x7f697b781cd0>"
      ]
     },
     "execution_count": 32,
     "metadata": {},
     "output_type": "execute_result"
    },
    {
     "data": {
      "image/png": "[encoded data removed]",
      "text/plain": [
       "<Figure size 360x360 with 1 Axes>"
      ]
     },
     "metadata": {
      "needs_background": "light"
     },
     "output_type": "display_data"
    }
   ],
   "source": [
    "sns.displot(data['order_amount'], log_scale=True)"
   ]
  },
  {
   "cell_type": "markdown",
   "id": "floral-season",
   "metadata": {},
   "source": [
    "There are purchases with order amounts of almost one million dollars. The data is skewed far to the right, causing the mean to far exceed the median."
   ]
  },
  {
   "cell_type": "markdown",
   "id": "acting-swaziland",
   "metadata": {},
   "source": [
    "**b) What metric would you report for this dataset?**"
   ]
  },
  {
   "cell_type": "markdown",
   "id": "thorough-matthew",
   "metadata": {},
   "source": [
    "This depends on what we are interested in knowing about. If we want to summarize the central tendency of the amount of money spent per transaction, a more realistic measure would be to report the median order value.\n",
    "\n",
    "The median is computed based only on the *order* of the data, and is not impacted by the actual *value* of the data. This lets us avoid the problem of outliers with high values."
   ]
  },
  {
   "cell_type": "markdown",
   "id": "ahead-hollow",
   "metadata": {},
   "source": [
    "**c) What is its value?**"
   ]
  },
  {
   "cell_type": "code",
   "execution_count": 35,
   "id": "collaborative-commission",
   "metadata": {},
   "outputs": [
    {
     "data": {
      "text/plain": [
       "284.0"
      ]
     },
     "execution_count": 35,
     "metadata": {},
     "output_type": "execute_result"
    }
   ],
   "source": [
    "data['order_amount'].median()"
   ]
  },
  {
   "cell_type": "markdown",
   "id": "immediate-decrease",
   "metadata": {},
   "source": [
    "**Question 2: For this question you’ll need to use SQL. Follow this link to access the data set required for the challenge. Please use queries to answer the following questions. Paste your queries along with your final numerical answers below.**"
   ]
  },
  {
   "cell_type": "markdown",
   "id": "endless-tragedy",
   "metadata": {},
   "source": [
    "**a) How many orders were shipped by Speedy Express in total?**"
   ]
  },
  {
   "cell_type": "markdown",
   "id": "driving-jewel",
   "metadata": {},
   "source": [
    "Join Orders and Shippers to get Shipper name. Select rows with name matching 'Speedy Express' and use COUNT to count rows.\n",
    "\n",
    "```sql\n",
    "SELECT COUNT(*) FROM \n",
    "Orders\n",
    "INNER JOIN Shippers\n",
    "ON Orders.ShipperID = Shippers.ShipperID\n",
    "WHERE Shippers.ShipperName = 'Speedy Express';\n",
    "```\n",
    "\n",
    "```\n",
    "54 \n",
    "```"
   ]
  },
  {
   "cell_type": "markdown",
   "id": "concrete-violation",
   "metadata": {},
   "source": [
    "**b) What is the last name of the employee with the most orders?**"
   ]
  },
  {
   "cell_type": "markdown",
   "id": "third-appearance",
   "metadata": {},
   "source": [
    "First count orders by Employee ID and rename as NumOrders. Next join Employee ID on employee table to get last names. Finally, order by NumOrders in descending order, and grab the LastName from the top 1 row."
   ]
  },
  {
   "cell_type": "markdown",
   "id": "derived-congress",
   "metadata": {},
   "source": [
    "```sql\n",
    "SELECT TOP 1, Employees.LastName\n",
    "FROM \n",
    "    (SELECT EmployeeID, COUNT(*) as NumOrders\n",
    "    From Orders\n",
    "    GROUP BY EmployeeID) AS EmpOrders\n",
    "INNER JOIN Employees \n",
    "ON EmpOrders.EmployeeID = Employees.EmployeeID\n",
    "ORDER BY NumOrders DESC\n",
    "```"
   ]
  },
  {
   "cell_type": "markdown",
   "id": "changed-compact",
   "metadata": {},
   "source": [
    "**c) What product was ordered the most by customers in Germany?**\n"
   ]
  },
  {
   "cell_type": "markdown",
   "id": "conceptual-moderator",
   "metadata": {},
   "source": [
    "Product Name and Country need to be linked. I need to link the Product Table to the Customer Table through the Orders Table.\n",
    "\n",
    "This query just involves linking the keys from Products -> OrderDetails -> Orders -> Customers. We do this using a series of Inner Joins. Next select only orders made by customers in Germany. Count by ProductName and sort in descending order. Finally, grab the ProductName from the top row.\n",
    "\n",
    "```sql\n",
    "SELECT TOP 1, ProductName\n",
    "FROM\n",
    "    (SELECT Products.ProductName, COUNT(*) AS Num\n",
    "    FROM \n",
    "        (((Products\n",
    "        INNER JOIN OrderDetails\n",
    "        ON Products.ProductID = OrderDetails.ProductID)\n",
    "        INNER JOIN Orders\n",
    "        ON OrderDetails.OrderID = Orders.OrderID)\n",
    "        INNER JOIN Customers\n",
    "        ON Orders.CustomerID = Customers.CustomerID)\n",
    "        WHERE Customers.Country = 'Germany'\n",
    "    GROUP BY Products.ProductName)\n",
    "ORDER BY Num DESC\n",
    "  \n",
    "```"
   ]
  },
  {
   "cell_type": "markdown",
   "id": "enclosed-knitting",
   "metadata": {},
   "source": [
    "```\n",
    "Gorgonzola Telino \n",
    "```"
   ]
  }
 ],
 "metadata": {
  "kernelspec": {
   "display_name": "Python 3",
   "language": "python",
   "name": "python3"
  },
  "language_info": {
   "codemirror_mode": {
    "name": "ipython",
    "version": 3
   },
   "file_extension": ".py",
   "mimetype": "text/x-python",
   "name": "python",
   "nbconvert_exporter": "python",
   "pygments_lexer": "ipython3",
   "version": "3.8.3"
  }
 },
 "nbformat": 4,
 "nbformat_minor": 5
}
